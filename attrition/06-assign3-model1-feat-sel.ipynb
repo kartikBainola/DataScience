{
 "cells": [
  {
   "cell_type": "markdown",
   "metadata": {},
   "source": [
    "\n",
    "# ISYS2407 Information Systems Solutions & Design\n",
    "\n",
    "# Assignment 3\n",
    "\n",
    "# Model 1 Selected Feature\n",
    "\n",
    "#### Student name: Rajbeer Kohli\n",
    "\n",
    "#### Student number: s3798453"
   ]
  },
  {
   "cell_type": "markdown",
   "metadata": {},
   "source": [
    "# 1 Import libraries"
   ]
  },
  {
   "cell_type": "code",
   "execution_count": 36,
   "metadata": {},
   "outputs": [],
   "source": [
    "# Import the library for pickling\n",
    "import joblib\n",
    "\n",
    "# Library needed for counting categorical values\n",
    "import collections\n",
    "\n",
    "# Also need pandas here\n",
    "import pandas as pd\n",
    "\n",
    "import numpy as np\n",
    "from sklearn.model_selection import GridSearchCV\n",
    "\n",
    "# Library to scale values\n",
    "from sklearn.preprocessing import StandardScaler\n",
    "\n",
    "# Library for replacing labels with numbers\n",
    "from sklearn.preprocessing import LabelEncoder\n",
    "\n",
    "# Libary needed for onehot encoder\n",
    "from sklearn.preprocessing import OneHotEncoder\n",
    "from sklearn.preprocessing import LabelBinarizer\n",
    "# Just use pandas get_dummies which is a lot easier to use\n",
    "\n",
    "# Library for splitting the data into train and test sets\n",
    "from sklearn.model_selection import train_test_split \n",
    "\n",
    "# Import the model library\n",
    "from sklearn.linear_model import LogisticRegression\n",
    "\n",
    "# Import the libraries for computing the metrics\n",
    "from sklearn.metrics import accuracy_score\n",
    "from sklearn.metrics import confusion_matrix\n",
    "from sklearn.metrics import recall_score\n",
    "from sklearn.metrics import precision_score\n",
    "from sklearn.metrics import f1_score\n",
    "\n",
    "# Import the plotting libraries\n",
    "import matplotlib.pyplot as plt\n",
    "%matplotlib inline \n",
    "import seaborn as sns"
   ]
  },
  {
   "cell_type": "markdown",
   "metadata": {},
   "source": [
    "# 2 Load the cleaned data\n",
    "\n",
    "#### Pickled file must exist in your folder"
   ]
  },
  {
   "cell_type": "code",
   "execution_count": 37,
   "metadata": {},
   "outputs": [
    {
     "data": {
      "text/html": [
       "<div>\n",
       "<style scoped>\n",
       "    .dataframe tbody tr th:only-of-type {\n",
       "        vertical-align: middle;\n",
       "    }\n",
       "\n",
       "    .dataframe tbody tr th {\n",
       "        vertical-align: top;\n",
       "    }\n",
       "\n",
       "    .dataframe thead th {\n",
       "        text-align: right;\n",
       "    }\n",
       "</style>\n",
       "<table border=\"1\" class=\"dataframe\">\n",
       "  <thead>\n",
       "    <tr style=\"text-align: right;\">\n",
       "      <th></th>\n",
       "      <th>age</th>\n",
       "      <th>business_travel</th>\n",
       "      <th>daily_rate</th>\n",
       "      <th>department</th>\n",
       "      <th>distance_from_home</th>\n",
       "      <th>education</th>\n",
       "      <th>education_field</th>\n",
       "      <th>employee_count</th>\n",
       "      <th>employee_number</th>\n",
       "      <th>environment_satisfaction</th>\n",
       "      <th>...</th>\n",
       "      <th>standard_hours</th>\n",
       "      <th>stock_option_level</th>\n",
       "      <th>total_working_years</th>\n",
       "      <th>training_times_last_year</th>\n",
       "      <th>work_life_balance</th>\n",
       "      <th>years_at_company</th>\n",
       "      <th>years_in_current_role</th>\n",
       "      <th>years_since_last_promotion</th>\n",
       "      <th>years_with_curr_manager</th>\n",
       "      <th>attrition</th>\n",
       "    </tr>\n",
       "  </thead>\n",
       "  <tbody>\n",
       "    <tr>\n",
       "      <th>0</th>\n",
       "      <td>41.0</td>\n",
       "      <td>Travel_Rarely</td>\n",
       "      <td>1102.0</td>\n",
       "      <td>Sales</td>\n",
       "      <td>1.0</td>\n",
       "      <td>2.0</td>\n",
       "      <td>Life Sciences</td>\n",
       "      <td>1.0</td>\n",
       "      <td>1.0</td>\n",
       "      <td>2.0</td>\n",
       "      <td>...</td>\n",
       "      <td>80.0</td>\n",
       "      <td>0.0</td>\n",
       "      <td>8.0</td>\n",
       "      <td>3.0</td>\n",
       "      <td>1.0</td>\n",
       "      <td>6.0</td>\n",
       "      <td>4.0</td>\n",
       "      <td>0.0</td>\n",
       "      <td>5.0</td>\n",
       "      <td>1</td>\n",
       "    </tr>\n",
       "    <tr>\n",
       "      <th>1</th>\n",
       "      <td>49.0</td>\n",
       "      <td>Travel_Frequently</td>\n",
       "      <td>279.0</td>\n",
       "      <td>Research &amp; Development</td>\n",
       "      <td>8.0</td>\n",
       "      <td>1.0</td>\n",
       "      <td>Life Sciences</td>\n",
       "      <td>1.0</td>\n",
       "      <td>2.0</td>\n",
       "      <td>3.0</td>\n",
       "      <td>...</td>\n",
       "      <td>80.0</td>\n",
       "      <td>1.0</td>\n",
       "      <td>10.0</td>\n",
       "      <td>3.0</td>\n",
       "      <td>3.0</td>\n",
       "      <td>10.0</td>\n",
       "      <td>7.0</td>\n",
       "      <td>1.0</td>\n",
       "      <td>7.0</td>\n",
       "      <td>0</td>\n",
       "    </tr>\n",
       "    <tr>\n",
       "      <th>2</th>\n",
       "      <td>37.0</td>\n",
       "      <td>Travel_Rarely</td>\n",
       "      <td>1373.0</td>\n",
       "      <td>Research &amp; Development</td>\n",
       "      <td>2.0</td>\n",
       "      <td>2.0</td>\n",
       "      <td>Other</td>\n",
       "      <td>1.0</td>\n",
       "      <td>4.0</td>\n",
       "      <td>4.0</td>\n",
       "      <td>...</td>\n",
       "      <td>80.0</td>\n",
       "      <td>0.0</td>\n",
       "      <td>7.0</td>\n",
       "      <td>3.0</td>\n",
       "      <td>3.0</td>\n",
       "      <td>0.0</td>\n",
       "      <td>0.0</td>\n",
       "      <td>0.0</td>\n",
       "      <td>0.0</td>\n",
       "      <td>1</td>\n",
       "    </tr>\n",
       "    <tr>\n",
       "      <th>3</th>\n",
       "      <td>33.0</td>\n",
       "      <td>Travel_Frequently</td>\n",
       "      <td>1392.0</td>\n",
       "      <td>Research &amp; Development</td>\n",
       "      <td>3.0</td>\n",
       "      <td>4.0</td>\n",
       "      <td>Life Sciences</td>\n",
       "      <td>1.0</td>\n",
       "      <td>5.0</td>\n",
       "      <td>4.0</td>\n",
       "      <td>...</td>\n",
       "      <td>80.0</td>\n",
       "      <td>0.0</td>\n",
       "      <td>8.0</td>\n",
       "      <td>3.0</td>\n",
       "      <td>3.0</td>\n",
       "      <td>8.0</td>\n",
       "      <td>7.0</td>\n",
       "      <td>3.0</td>\n",
       "      <td>0.0</td>\n",
       "      <td>0</td>\n",
       "    </tr>\n",
       "    <tr>\n",
       "      <th>4</th>\n",
       "      <td>27.0</td>\n",
       "      <td>Travel_Rarely</td>\n",
       "      <td>591.0</td>\n",
       "      <td>Research &amp; Development</td>\n",
       "      <td>2.0</td>\n",
       "      <td>1.0</td>\n",
       "      <td>Medical</td>\n",
       "      <td>1.0</td>\n",
       "      <td>7.0</td>\n",
       "      <td>1.0</td>\n",
       "      <td>...</td>\n",
       "      <td>80.0</td>\n",
       "      <td>1.0</td>\n",
       "      <td>6.0</td>\n",
       "      <td>3.0</td>\n",
       "      <td>3.0</td>\n",
       "      <td>2.0</td>\n",
       "      <td>2.0</td>\n",
       "      <td>2.0</td>\n",
       "      <td>2.0</td>\n",
       "      <td>0</td>\n",
       "    </tr>\n",
       "  </tbody>\n",
       "</table>\n",
       "<p>5 rows × 35 columns</p>\n",
       "</div>"
      ],
      "text/plain": [
       "    age    business_travel  daily_rate              department  \\\n",
       "0  41.0      Travel_Rarely      1102.0                   Sales   \n",
       "1  49.0  Travel_Frequently       279.0  Research & Development   \n",
       "2  37.0      Travel_Rarely      1373.0  Research & Development   \n",
       "3  33.0  Travel_Frequently      1392.0  Research & Development   \n",
       "4  27.0      Travel_Rarely       591.0  Research & Development   \n",
       "\n",
       "   distance_from_home  education education_field  employee_count  \\\n",
       "0                 1.0        2.0   Life Sciences             1.0   \n",
       "1                 8.0        1.0   Life Sciences             1.0   \n",
       "2                 2.0        2.0           Other             1.0   \n",
       "3                 3.0        4.0   Life Sciences             1.0   \n",
       "4                 2.0        1.0         Medical             1.0   \n",
       "\n",
       "   employee_number  environment_satisfaction  ... standard_hours  \\\n",
       "0              1.0                       2.0  ...           80.0   \n",
       "1              2.0                       3.0  ...           80.0   \n",
       "2              4.0                       4.0  ...           80.0   \n",
       "3              5.0                       4.0  ...           80.0   \n",
       "4              7.0                       1.0  ...           80.0   \n",
       "\n",
       "   stock_option_level  total_working_years  training_times_last_year  \\\n",
       "0                 0.0                  8.0                       3.0   \n",
       "1                 1.0                 10.0                       3.0   \n",
       "2                 0.0                  7.0                       3.0   \n",
       "3                 0.0                  8.0                       3.0   \n",
       "4                 1.0                  6.0                       3.0   \n",
       "\n",
       "  work_life_balance  years_at_company years_in_current_role  \\\n",
       "0               1.0               6.0                   4.0   \n",
       "1               3.0              10.0                   7.0   \n",
       "2               3.0               0.0                   0.0   \n",
       "3               3.0               8.0                   7.0   \n",
       "4               3.0               2.0                   2.0   \n",
       "\n",
       "   years_since_last_promotion  years_with_curr_manager  attrition  \n",
       "0                         0.0                      5.0          1  \n",
       "1                         1.0                      7.0          0  \n",
       "2                         0.0                      0.0          1  \n",
       "3                         3.0                      0.0          0  \n",
       "4                         2.0                      2.0          0  \n",
       "\n",
       "[5 rows x 35 columns]"
      ]
     },
     "execution_count": 37,
     "metadata": {},
     "output_type": "execute_result"
    }
   ],
   "source": [
    "# Load the pickled file\n",
    "attrition_df = joblib.load('attrition-cleaned.pkl')  \n",
    "\n",
    "# Check\n",
    "attrition_df.head()"
   ]
  },
  {
   "cell_type": "markdown",
   "metadata": {},
   "source": [
    "# 3 Split the data into training and testing set"
   ]
  },
  {
   "cell_type": "code",
   "execution_count": 45,
   "metadata": {},
   "outputs": [],
   "source": [
    "# Store the features in variable X (uppercase as there are multiple features)\n",
    "\n",
    "# Store the features in variable X (uppercase as there are multiple features)\n",
    "\n",
    "# Features are variables that affect the target/label\n",
    "# So, it's all the columns excluding the target column\n",
    "# However, you may also use a subset of features previously identified as best features\n",
    "# You might want to experiment with both the full set and the best features\n",
    "feature_cols = ['age', \n",
    "'daily_rate',  \n",
    "'distance_from_home',\n",
    "'employee_number',           \n",
    "'hourly_rate', \n",
    "'job_involvement',\n",
    "'job_satisfaction',\n",
    "'monthly_income', \n",
    "'monthly_rate',\n",
    "'stock_option_level',\n",
    "'total_working_years',\n",
    "'years_at_company',\n",
    "'years_in_current_role',\n",
    "'years_with_curr_manager']\n",
    "\n",
    "X = attrition_df[feature_cols]\n",
    "#print('X:\\n', X)\n",
    "\n",
    "# Store the labels/target in variable y (lower case as its a single value)\n",
    "y = attrition_df['attrition']\n",
    "#print('y:\\n', y)\n",
    "\n",
    "# Split into train/test set\n",
    "X_train, X_test, y_train, y_test = train_test_split(X, \n",
    "                                                    y, \n",
    "                                                    test_size=0.2, # keep 20% for testing\n",
    "                                                    random_state=2 # pass an int for reproducible rtesult\n",
    "                                                    )"
   ]
  },
  {
   "cell_type": "markdown",
   "metadata": {},
   "source": [
    "# 4 Data Transformations to improve modelling performance\n",
    "\n",
    "#### Should be performed after the data has been split into training and testing sets to prevent information leakage (train-test contamination)"
   ]
  },
  {
   "cell_type": "markdown",
   "metadata": {},
   "source": [
    "## 4.1 Scale the columns with continuous values (only the ones you want)"
   ]
  },
  {
   "cell_type": "code",
   "execution_count": 46,
   "metadata": {
    "scrolled": false
   },
   "outputs": [
    {
     "name": "stdout",
     "output_type": "stream",
     "text": [
      "(1176, 14) (294, 14)\n"
     ]
    }
   ],
   "source": [
    "# 1. Select the columns to scale\n",
    "# Make sure they are continuous columns as scaling is only for continuous values\n",
    "# Better list all the columns and comment out the ones you don't need\n",
    "columns_to_scale = ['age', \n",
    "'daily_rate',  \n",
    "'distance_from_home',\n",
    "'employee_number',           \n",
    "'hourly_rate', \n",
    "#'job_involvement',\n",
    "#'job_satisfaction',\n",
    "'monthly_income', \n",
    "'monthly_rate',\n",
    "#'stock_option_level',\n",
    "'total_working_years',\n",
    "'years_at_company',\n",
    "'years_in_current_role',\n",
    "'years_with_curr_manager']\n",
    "\n",
    "\n",
    "# 2. Make copy of the training and testing sets fix the issue below\n",
    "# Warning: A value is trying to be set on a copy of a slice from a DataFrame.\n",
    "# Try using .loc[row_indexer,col_indexer] = value instead\n",
    "X_train = X_train.copy()\n",
    "X_test = X_test.copy()\n",
    "\n",
    "# 3. Instantiate a scaler\n",
    "scaler = StandardScaler()\n",
    "    \n",
    "# 4. Fit the scaler on the training column and transform the training and testing columns\n",
    "# Use a loop to scale all the required columns    \n",
    "for col in columns_to_scale:\n",
    "    #print(col)\n",
    "    # First fit the scaler to the column in the training data\n",
    "    # Must reshape the numpy array returned b the scaler from 1D to 2D\n",
    "    scaler.fit(X_train[col].values.reshape(-1, 1))\n",
    "    # Then transform both the training and testing sets\n",
    "    X_train[col] = scaler.transform(X_train[col].values.reshape(-1, 1))\n",
    "    X_test[col] = scaler.transform(X_test[col].values.reshape(-1, 1))\n",
    "\n",
    "# Check\n",
    "print(X_train.shape, X_test.shape)"
   ]
  },
  {
   "cell_type": "code",
   "execution_count": 47,
   "metadata": {},
   "outputs": [
    {
     "data": {
      "text/html": [
       "<div>\n",
       "<style scoped>\n",
       "    .dataframe tbody tr th:only-of-type {\n",
       "        vertical-align: middle;\n",
       "    }\n",
       "\n",
       "    .dataframe tbody tr th {\n",
       "        vertical-align: top;\n",
       "    }\n",
       "\n",
       "    .dataframe thead th {\n",
       "        text-align: right;\n",
       "    }\n",
       "</style>\n",
       "<table border=\"1\" class=\"dataframe\">\n",
       "  <thead>\n",
       "    <tr style=\"text-align: right;\">\n",
       "      <th></th>\n",
       "      <th>age</th>\n",
       "      <th>daily_rate</th>\n",
       "      <th>distance_from_home</th>\n",
       "      <th>employee_number</th>\n",
       "      <th>hourly_rate</th>\n",
       "      <th>job_involvement</th>\n",
       "      <th>job_satisfaction</th>\n",
       "      <th>monthly_income</th>\n",
       "      <th>monthly_rate</th>\n",
       "      <th>stock_option_level</th>\n",
       "      <th>total_working_years</th>\n",
       "      <th>years_at_company</th>\n",
       "      <th>years_in_current_role</th>\n",
       "      <th>years_with_curr_manager</th>\n",
       "    </tr>\n",
       "  </thead>\n",
       "  <tbody>\n",
       "    <tr>\n",
       "      <th>285</th>\n",
       "      <td>0.020782</td>\n",
       "      <td>1.397274</td>\n",
       "      <td>-1.017288</td>\n",
       "      <td>-1.040644</td>\n",
       "      <td>-1.164539</td>\n",
       "      <td>3.0</td>\n",
       "      <td>4.0</td>\n",
       "      <td>-1.052118</td>\n",
       "      <td>0.215234</td>\n",
       "      <td>0.0</td>\n",
       "      <td>1.066259</td>\n",
       "      <td>2.900775</td>\n",
       "      <td>2.401104</td>\n",
       "      <td>0.886660</td>\n",
       "    </tr>\n",
       "    <tr>\n",
       "      <th>194</th>\n",
       "      <td>0.901489</td>\n",
       "      <td>0.964352</td>\n",
       "      <td>-0.893162</td>\n",
       "      <td>-1.251719</td>\n",
       "      <td>-0.023456</td>\n",
       "      <td>2.0</td>\n",
       "      <td>4.0</td>\n",
       "      <td>-0.169777</td>\n",
       "      <td>0.855546</td>\n",
       "      <td>1.0</td>\n",
       "      <td>1.857377</td>\n",
       "      <td>-0.182432</td>\n",
       "      <td>1.198763</td>\n",
       "      <td>1.181796</td>\n",
       "    </tr>\n",
       "    <tr>\n",
       "      <th>323</th>\n",
       "      <td>-0.970013</td>\n",
       "      <td>0.871408</td>\n",
       "      <td>-0.893162</td>\n",
       "      <td>-0.959205</td>\n",
       "      <td>0.919177</td>\n",
       "      <td>1.0</td>\n",
       "      <td>4.0</td>\n",
       "      <td>-0.627625</td>\n",
       "      <td>1.453087</td>\n",
       "      <td>0.0</td>\n",
       "      <td>-0.832422</td>\n",
       "      <td>-0.696300</td>\n",
       "      <td>-0.604749</td>\n",
       "      <td>-0.589016</td>\n",
       "    </tr>\n",
       "    <tr>\n",
       "      <th>1015</th>\n",
       "      <td>-0.309483</td>\n",
       "      <td>-0.588787</td>\n",
       "      <td>-1.017288</td>\n",
       "      <td>0.687848</td>\n",
       "      <td>1.266463</td>\n",
       "      <td>3.0</td>\n",
       "      <td>1.0</td>\n",
       "      <td>-0.774892</td>\n",
       "      <td>0.830666</td>\n",
       "      <td>2.0</td>\n",
       "      <td>-0.041305</td>\n",
       "      <td>-0.439366</td>\n",
       "      <td>-0.304164</td>\n",
       "      <td>-0.293880</td>\n",
       "    </tr>\n",
       "    <tr>\n",
       "      <th>1003</th>\n",
       "      <td>-1.300279</td>\n",
       "      <td>0.362663</td>\n",
       "      <td>-1.017288</td>\n",
       "      <td>0.661256</td>\n",
       "      <td>0.770340</td>\n",
       "      <td>3.0</td>\n",
       "      <td>4.0</td>\n",
       "      <td>-0.701573</td>\n",
       "      <td>-1.318245</td>\n",
       "      <td>1.0</td>\n",
       "      <td>-0.515975</td>\n",
       "      <td>-0.696300</td>\n",
       "      <td>-0.604749</td>\n",
       "      <td>-0.589016</td>\n",
       "    </tr>\n",
       "  </tbody>\n",
       "</table>\n",
       "</div>"
      ],
      "text/plain": [
       "           age  daily_rate  distance_from_home  employee_number  hourly_rate  \\\n",
       "285   0.020782    1.397274           -1.017288        -1.040644    -1.164539   \n",
       "194   0.901489    0.964352           -0.893162        -1.251719    -0.023456   \n",
       "323  -0.970013    0.871408           -0.893162        -0.959205     0.919177   \n",
       "1015 -0.309483   -0.588787           -1.017288         0.687848     1.266463   \n",
       "1003 -1.300279    0.362663           -1.017288         0.661256     0.770340   \n",
       "\n",
       "      job_involvement  job_satisfaction  monthly_income  monthly_rate  \\\n",
       "285               3.0               4.0       -1.052118      0.215234   \n",
       "194               2.0               4.0       -0.169777      0.855546   \n",
       "323               1.0               4.0       -0.627625      1.453087   \n",
       "1015              3.0               1.0       -0.774892      0.830666   \n",
       "1003              3.0               4.0       -0.701573     -1.318245   \n",
       "\n",
       "      stock_option_level  total_working_years  years_at_company  \\\n",
       "285                  0.0             1.066259          2.900775   \n",
       "194                  1.0             1.857377         -0.182432   \n",
       "323                  0.0            -0.832422         -0.696300   \n",
       "1015                 2.0            -0.041305         -0.439366   \n",
       "1003                 1.0            -0.515975         -0.696300   \n",
       "\n",
       "      years_in_current_role  years_with_curr_manager  \n",
       "285                2.401104                 0.886660  \n",
       "194                1.198763                 1.181796  \n",
       "323               -0.604749                -0.589016  \n",
       "1015              -0.304164                -0.293880  \n",
       "1003              -0.604749                -0.589016  "
      ]
     },
     "execution_count": 47,
     "metadata": {},
     "output_type": "execute_result"
    }
   ],
   "source": [
    "# Check again\n",
    "X_train.head()"
   ]
  },
  {
   "cell_type": "code",
   "execution_count": 48,
   "metadata": {
    "scrolled": true
   },
   "outputs": [
    {
     "data": {
      "text/html": [
       "<div>\n",
       "<style scoped>\n",
       "    .dataframe tbody tr th:only-of-type {\n",
       "        vertical-align: middle;\n",
       "    }\n",
       "\n",
       "    .dataframe tbody tr th {\n",
       "        vertical-align: top;\n",
       "    }\n",
       "\n",
       "    .dataframe thead th {\n",
       "        text-align: right;\n",
       "    }\n",
       "</style>\n",
       "<table border=\"1\" class=\"dataframe\">\n",
       "  <thead>\n",
       "    <tr style=\"text-align: right;\">\n",
       "      <th></th>\n",
       "      <th>age</th>\n",
       "      <th>daily_rate</th>\n",
       "      <th>distance_from_home</th>\n",
       "      <th>employee_number</th>\n",
       "      <th>hourly_rate</th>\n",
       "      <th>job_involvement</th>\n",
       "      <th>job_satisfaction</th>\n",
       "      <th>monthly_income</th>\n",
       "      <th>monthly_rate</th>\n",
       "      <th>stock_option_level</th>\n",
       "      <th>total_working_years</th>\n",
       "      <th>years_at_company</th>\n",
       "      <th>years_in_current_role</th>\n",
       "      <th>years_with_curr_manager</th>\n",
       "    </tr>\n",
       "  </thead>\n",
       "  <tbody>\n",
       "    <tr>\n",
       "      <th>721</th>\n",
       "      <td>1.451931</td>\n",
       "      <td>0.338204</td>\n",
       "      <td>1.837621</td>\n",
       "      <td>-0.020169</td>\n",
       "      <td>1.464912</td>\n",
       "      <td>3.0</td>\n",
       "      <td>3.0</td>\n",
       "      <td>2.679265</td>\n",
       "      <td>-1.422937</td>\n",
       "      <td>1.0</td>\n",
       "      <td>1.857377</td>\n",
       "      <td>1.616106</td>\n",
       "      <td>2.100518</td>\n",
       "      <td>0.296390</td>\n",
       "    </tr>\n",
       "    <tr>\n",
       "      <th>843</th>\n",
       "      <td>-1.190190</td>\n",
       "      <td>1.426624</td>\n",
       "      <td>-0.769035</td>\n",
       "      <td>0.265697</td>\n",
       "      <td>0.819953</td>\n",
       "      <td>4.0</td>\n",
       "      <td>4.0</td>\n",
       "      <td>-0.326799</td>\n",
       "      <td>-0.128614</td>\n",
       "      <td>1.0</td>\n",
       "      <td>-0.357752</td>\n",
       "      <td>0.588370</td>\n",
       "      <td>0.898177</td>\n",
       "      <td>0.886660</td>\n",
       "    </tr>\n",
       "    <tr>\n",
       "      <th>627</th>\n",
       "      <td>1.672108</td>\n",
       "      <td>0.218356</td>\n",
       "      <td>1.961748</td>\n",
       "      <td>-0.249526</td>\n",
       "      <td>0.770340</td>\n",
       "      <td>2.0</td>\n",
       "      <td>4.0</td>\n",
       "      <td>2.633008</td>\n",
       "      <td>0.655108</td>\n",
       "      <td>0.0</td>\n",
       "      <td>-0.041305</td>\n",
       "      <td>0.845304</td>\n",
       "      <td>1.198763</td>\n",
       "      <td>-1.179286</td>\n",
       "    </tr>\n",
       "    <tr>\n",
       "      <th>1368</th>\n",
       "      <td>-0.309483</td>\n",
       "      <td>-0.160757</td>\n",
       "      <td>1.589368</td>\n",
       "      <td>1.520516</td>\n",
       "      <td>1.018402</td>\n",
       "      <td>2.0</td>\n",
       "      <td>4.0</td>\n",
       "      <td>0.090771</td>\n",
       "      <td>1.698952</td>\n",
       "      <td>0.0</td>\n",
       "      <td>0.908036</td>\n",
       "      <td>2.386907</td>\n",
       "      <td>1.799933</td>\n",
       "      <td>2.067201</td>\n",
       "    </tr>\n",
       "    <tr>\n",
       "      <th>305</th>\n",
       "      <td>-0.089306</td>\n",
       "      <td>0.744222</td>\n",
       "      <td>1.837621</td>\n",
       "      <td>-0.994107</td>\n",
       "      <td>-0.916477</td>\n",
       "      <td>3.0</td>\n",
       "      <td>2.0</td>\n",
       "      <td>0.067800</td>\n",
       "      <td>-1.036317</td>\n",
       "      <td>1.0</td>\n",
       "      <td>0.116919</td>\n",
       "      <td>0.845304</td>\n",
       "      <td>1.198763</td>\n",
       "      <td>1.181796</td>\n",
       "    </tr>\n",
       "  </tbody>\n",
       "</table>\n",
       "</div>"
      ],
      "text/plain": [
       "           age  daily_rate  distance_from_home  employee_number  hourly_rate  \\\n",
       "721   1.451931    0.338204            1.837621        -0.020169     1.464912   \n",
       "843  -1.190190    1.426624           -0.769035         0.265697     0.819953   \n",
       "627   1.672108    0.218356            1.961748        -0.249526     0.770340   \n",
       "1368 -0.309483   -0.160757            1.589368         1.520516     1.018402   \n",
       "305  -0.089306    0.744222            1.837621        -0.994107    -0.916477   \n",
       "\n",
       "      job_involvement  job_satisfaction  monthly_income  monthly_rate  \\\n",
       "721               3.0               3.0        2.679265     -1.422937   \n",
       "843               4.0               4.0       -0.326799     -0.128614   \n",
       "627               2.0               4.0        2.633008      0.655108   \n",
       "1368              2.0               4.0        0.090771      1.698952   \n",
       "305               3.0               2.0        0.067800     -1.036317   \n",
       "\n",
       "      stock_option_level  total_working_years  years_at_company  \\\n",
       "721                  1.0             1.857377          1.616106   \n",
       "843                  1.0            -0.357752          0.588370   \n",
       "627                  0.0            -0.041305          0.845304   \n",
       "1368                 0.0             0.908036          2.386907   \n",
       "305                  1.0             0.116919          0.845304   \n",
       "\n",
       "      years_in_current_role  years_with_curr_manager  \n",
       "721                2.100518                 0.296390  \n",
       "843                0.898177                 0.886660  \n",
       "627                1.198763                -1.179286  \n",
       "1368               1.799933                 2.067201  \n",
       "305                1.198763                 1.181796  "
      ]
     },
     "execution_count": 48,
     "metadata": {},
     "output_type": "execute_result"
    }
   ],
   "source": [
    "# Check again\n",
    "X_test.head()"
   ]
  },
  {
   "cell_type": "markdown",
   "metadata": {},
   "source": [
    "# 5 Modelling"
   ]
  },
  {
   "cell_type": "markdown",
   "metadata": {},
   "source": [
    "## 5.1 Initial/baseline model"
   ]
  },
  {
   "cell_type": "markdown",
   "metadata": {},
   "source": [
    "### 5.1.1 Fit initial model"
   ]
  },
  {
   "cell_type": "code",
   "execution_count": 49,
   "metadata": {},
   "outputs": [
    {
     "name": "stdout",
     "output_type": "stream",
     "text": [
      "[0 0 0 0 0]\n"
     ]
    }
   ],
   "source": [
    "# Import the model library\n",
    "from sklearn.ensemble import RandomForestClassifier\n",
    "\n",
    "# Instantiate model and fit on training data\n",
    "rf_model = RandomForestClassifier(n_estimators=100).fit(X_train, y_train)\n",
    "\n",
    "# Predict using test data\n",
    "y_pred = rf_model.predict(X_test)\n",
    "\n",
    "# Quick check\n",
    "print(y_pred[:5])"
   ]
  },
  {
   "cell_type": "markdown",
   "metadata": {},
   "source": [
    "### 5.1.2 Evaluate model"
   ]
  },
  {
   "cell_type": "code",
   "execution_count": 50,
   "metadata": {},
   "outputs": [
    {
     "name": "stdout",
     "output_type": "stream",
     "text": [
      "accuracy: 0.8537414965986394\n",
      "precision: 0.7272727272727273\n",
      "recall: 0.16666666666666666\n",
      "F1 score: 0.2711864406779661\n",
      "[[243   3]\n",
      " [ 40   8]]\n"
     ]
    },
    {
     "data": {
      "text/plain": [
       "<AxesSubplot:>"
      ]
     },
     "execution_count": 50,
     "metadata": {},
     "output_type": "execute_result"
    },
    {
     "data": {
      "image/png": "[encoded data removed]",
      "text/plain": [
       "<Figure size 432x288 with 2 Axes>"
      ]
     },
     "metadata": {
      "needs_background": "light"
     },
     "output_type": "display_data"
    }
   ],
   "source": [
    "# Compute performance metrics of the baseline model\n",
    "\n",
    "accuracy = accuracy_score(y_test, y_pred)\n",
    "print(f\"accuracy: {accuracy}\")\n",
    "\n",
    "precision = precision_score(y_test, y_pred)\n",
    "print(f\"precision: {precision}\") \n",
    "\n",
    "recall = recall_score(y_test, y_pred)\n",
    "print(f\"recall: {recall}\") \n",
    "\n",
    "f1  = f1_score(y_test, y_pred)\n",
    "print(f\"F1 score: {f1 }\") \n",
    "\n",
    "cf_matrix = confusion_matrix(y_test, y_pred)\n",
    "print(cf_matrix)\n",
    "# Visualise the   confusion matrix\n",
    "sns.heatmap(cf_matrix, annot=True, fmt=\"d\", yticklabels=False, cmap=\"YlGnBu\")\n"
   ]
  },
  {
   "cell_type": "markdown",
   "metadata": {},
   "source": [
    "# Continue with the rest of the modelling steps - e.g."
   ]
  },
  {
   "cell_type": "markdown",
   "metadata": {},
   "source": [
    "## 5.2 Improved model"
   ]
  },
  {
   "cell_type": "markdown",
   "metadata": {},
   "source": [
    "### 5.2.1 Use grid search to find best hyperameters (details in grid search notebook)"
   ]
  },
  {
   "cell_type": "code",
   "execution_count": 51,
   "metadata": {},
   "outputs": [
    {
     "name": "stdout",
     "output_type": "stream",
     "text": [
      "Best params: {'criterion': 'gini', 'n_estimators': 3}, score: 0.26\n"
     ]
    }
   ],
   "source": [
    "param_grid = [\n",
    "    {\"criterion\": [\"gini\", 'entropy'], \"n_estimators\": range(1,20)}\n",
    "]\n",
    "# Instantiate a grid search object and fit it to the training data\n",
    "clf = RandomForestClassifier()\n",
    "grid = GridSearchCV(clf, param_grid, verbose=0, cv=5, scoring='f1')\n",
    "grid.fit(X_train, y_train)\n",
    "print(f\"Best params: {grid.best_params_}, score: {grid.best_score_:0.2f}\")"
   ]
  },
  {
   "cell_type": "markdown",
   "metadata": {},
   "source": [
    "### 5.2.2 Fit improved model"
   ]
  },
  {
   "cell_type": "code",
   "execution_count": 52,
   "metadata": {},
   "outputs": [
    {
     "name": "stdout",
     "output_type": "stream",
     "text": [
      "[0 0 0 0 0]\n"
     ]
    }
   ],
   "source": [
    "# Import the model library\n",
    "from sklearn.ensemble import RandomForestClassifier\n",
    "\n",
    "# Instantiate model and fit on training data\n",
    "rf_model = RandomForestClassifier(n_estimators=100).fit(X_train, y_train)\n",
    "\n",
    "# Predict using test data\n",
    "y_pred = rf_model.predict(X_test)\n",
    "\n",
    "# Quick check\n",
    "print(y_pred[:5])"
   ]
  },
  {
   "cell_type": "markdown",
   "metadata": {},
   "source": [
    "### 5.2.3 Evaluate  improved model"
   ]
  },
  {
   "cell_type": "code",
   "execution_count": 53,
   "metadata": {},
   "outputs": [
    {
     "name": "stdout",
     "output_type": "stream",
     "text": [
      "accuracy: 0.8469387755102041\n",
      "precision: 0.5882352941176471\n",
      "recall: 0.20833333333333334\n",
      "F1   score: 0.3076923076923077\n",
      "[[239   7]\n",
      " [ 38  10]]\n"
     ]
    },
    {
     "data": {
      "text/plain": [
       "<AxesSubplot:>"
      ]
     },
     "execution_count": 53,
     "metadata": {},
     "output_type": "execute_result"
    },
    {
     "data": {
      "image/png": "[encoded data removed]",
      "text/plain": [
       "<Figure size 432x288 with 2 Axes>"
      ]
     },
     "metadata": {
      "needs_background": "light"
     },
     "output_type": "display_data"
    }
   ],
   "source": [
    "# 1.  Compute metrics\n",
    "\n",
    "accuracy = accuracy_score(y_test, y_pred)\n",
    "print(f\"accuracy: {accuracy}\")\n",
    "\n",
    "precision = precision_score(y_test, y_pred)\n",
    "print(f\"precision: {precision}\") \n",
    "\n",
    "recall = recall_score(y_test, y_pred)\n",
    "print(f\"recall: {recall}\") \n",
    "\n",
    "f1  = f1_score(y_test, y_pred)\n",
    "print(f\"F1   score: {f1 }\") \n",
    "\n",
    "cf_matrix = confusion_matrix(y_test, y_pred)\n",
    "print(cf_matrix)\n",
    "# Visualise the   confusion matrix\n",
    "sns.heatmap(cf_matrix, annot=True   , fmt  =\"d\"  , yticklabels=False, cmap   =\"YlGnBu\")"
   ]
  },
  {
   "cell_type": "markdown",
   "metadata": {},
   "source": [
    "# 6 Save the model for further evaluation (in another notebook)\n",
    "#### Should also save the train/test sets"
   ]
  },
  {
   "cell_type": "code",
   "execution_count": 26,
   "metadata": {},
   "outputs": [
    {
     "data": {
      "text/plain": [
       "['y_test.pkl']"
      ]
     },
     "execution_count": 26,
     "metadata": {},
     "output_type": "execute_result"
    }
   ],
   "source": [
    "# Uncomment the code if you want to use this i.e. delete the triple quotes at the start and end of this cell\n",
    "\n",
    "# Pickle the model for later evaluation\n",
    "joblib.dump(rf_model, 'model-1.pkl')  # # Use the right model name and a suitable file name\n",
    "\n",
    "# Also need to pickle the training and testing sets\n",
    "joblib.dump(X_train, 'X_train.pkl') \n",
    "joblib.dump(X_test, 'X_test.pkl') \n",
    "joblib.dump(y_train, 'y_train.pkl') \n",
    "joblib.dump(y_test, 'y_test.pkl')\n",
    "\n",
    "# Note: make sure that the model and the training/testing sets match \n",
    "# i.e. the model was built using this particular training set\n",
    "# and the testing set matches this partiular training"
   ]
  },
  {
   "cell_type": "code",
   "execution_count": null,
   "metadata": {},
   "outputs": [],
   "source": []
  }
 ],
 "metadata": {
  "anaconda-cloud": {},
  "kernelspec": {
   "display_name": "Python 3",
   "language": "python",
   "name": "python3"
  },
  "language_info": {
   "codemirror_mode": {
    "name": "ipython",
    "version": 3
   },
   "file_extension": ".py",
   "mimetype": "text/x-python",
   "name": "python",
   "nbconvert_exporter": "python",
   "pygments_lexer": "ipython3",
   "version": "3.8.5"
  }
 },
 "nbformat": 4,
 "nbformat_minor": 2
}
